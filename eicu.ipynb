{
 "cells": [
  {
   "cell_type": "code",
   "execution_count": 105,
   "metadata": {
    "collapsed": true,
    "pycharm": {
     "name": "#%%\n"
    }
   },
   "outputs": [
    {
     "name": "stdout",
     "output_type": "stream",
     "text": [
      "(100, 10)\n"
     ]
    }
   ],
   "source": [
    "import pandas as pd\n",
    "\n",
    "df = pd.read_csv('./file/test.csv',sep=',')\n",
    "print(df.shape)"
   ]
  },
  {
   "cell_type": "code",
   "execution_count": 106,
   "outputs": [
    {
     "name": "stdout",
     "output_type": "stream",
     "text": [
      "labid                      50363250\n",
      "patientunitstayid            141168\n",
      "labresultoffset                1133\n",
      "labtypeid                         3\n",
      "labname                          PT\n",
      "labresult                      26.6\n",
      "labresulttext                  26.6\n",
      "labmeasurenamesystem            sec\n",
      "labmeasurenameinterface         sec\n",
      "labresultrevisedoffset         1208\n",
      "Name: 3, dtype: object\n",
      "labid                      56072055\n",
      "patientunitstayid            141168\n",
      "labresultoffset                 231\n",
      "labtypeid                         3\n",
      "labname                          PT\n",
      "labresult                      17.1\n",
      "labresulttext                  17.1\n",
      "labmeasurenamesystem            sec\n",
      "labmeasurenameinterface         sec\n",
      "labresultrevisedoffset          268\n",
      "Name: 11, dtype: object\n",
      "labid                      50567433\n",
      "patientunitstayid            141168\n",
      "labresultoffset                2026\n",
      "labtypeid                         3\n",
      "labname                          PT\n",
      "labresult                      43.3\n",
      "labresulttext                  43.3\n",
      "labmeasurenamesystem            sec\n",
      "labmeasurenameinterface         sec\n",
      "labresultrevisedoffset         2219\n",
      "Name: 41, dtype: object\n",
      "labid                      56391148\n",
      "patientunitstayid            141168\n",
      "labresultoffset                 516\n",
      "labtypeid                         3\n",
      "labname                          PT\n",
      "labresult                        20\n",
      "labresulttext                  20.0\n",
      "labmeasurenamesystem            sec\n",
      "labmeasurenameinterface         sec\n",
      "labresultrevisedoffset          534\n",
      "Name: 83, dtype: object\n",
      "labid                      56035789\n",
      "patientunitstayid            141168\n",
      "labresultoffset                2026\n",
      "labtypeid                         3\n",
      "labname                          PT\n",
      "labresult                      46.1\n",
      "labresulttext                  46.1\n",
      "labmeasurenamesystem            sec\n",
      "labmeasurenameinterface         sec\n",
      "labresultrevisedoffset         2069\n",
      "Name: 94, dtype: object\n"
     ]
    }
   ],
   "source": [
    "for idx, row in df.iterrows():\n",
    "    if 'PT' == row['labname']:\n",
    "        print(row)"
   ],
   "metadata": {
    "collapsed": false,
    "pycharm": {
     "name": "#%%\n"
    }
   }
  },
  {
   "cell_type": "code",
   "execution_count": 107,
   "outputs": [],
   "source": [
    "# 去重lab中的左右患者id\n",
    "# df = pd.read_csv('./file/lab-pf.csv', sep=',')\n",
    "# # id去重\n",
    "# distinct_id_in_lab_df = pd.DataFrame(df)\n",
    "# distinct_id_in_lab_df.drop_duplicates(subset=['id'], keep='first', inplace=True)\n",
    "# # 添加表头\n",
    "# distinct_id_in_lab_df.to_csv(\"./file/distinct_id_in_lab_df.csv\", columns=['id'])"
   ],
   "metadata": {
    "collapsed": false,
    "pycharm": {
     "name": "#%%\n"
    }
   }
  },
  {
   "cell_type": "code",
   "execution_count": 116,
   "outputs": [
    {
     "name": "stdout",
     "output_type": "stream",
     "text": [
      "[0]\n",
      "[85265]\n"
     ]
    }
   ],
   "source": [
    "distinct_id_in_lab_df = pd.read_csv('./file/distinct_id_in_lab_df.csv', sep=',')\n",
    "df = pd.DataFrame(distinct_id_in_lab_df)\n",
    "print(df.head(1).index.tolist())\n",
    "print(df.tail(1).index.tolist())"
   ],
   "metadata": {
    "collapsed": false,
    "pycharm": {
     "name": "#%%\n"
    }
   }
  },
  {
   "cell_type": "code",
   "execution_count": 108,
   "outputs": [],
   "source": [],
   "metadata": {
    "collapsed": false,
    "pycharm": {
     "name": "#%%\n"
    }
   }
  }
 ],
 "metadata": {
  "kernelspec": {
   "display_name": "Python 3",
   "language": "python",
   "name": "python3"
  },
  "language_info": {
   "codemirror_mode": {
    "name": "ipython",
    "version": 2
   },
   "file_extension": ".py",
   "mimetype": "text/x-python",
   "name": "python",
   "nbconvert_exporter": "python",
   "pygments_lexer": "ipython2",
   "version": "2.7.6"
  }
 },
 "nbformat": 4,
 "nbformat_minor": 0
}