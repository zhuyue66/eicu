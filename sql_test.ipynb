{
 "cells": [
  {
   "cell_type": "markdown",
   "source": [
    "# id合并"
   ],
   "metadata": {
    "collapsed": false,
    "pycharm": {
     "name": "#%% md\n"
    }
   }
  },
  {
   "cell_type": "code",
   "execution_count": 1,
   "outputs": [
    {
     "data": {
      "text/plain": "           id\n0      231384\n1      231388\n2      231419\n3      231427\n4      231456\n...       ...\n35603  702397\n35604  702523\n35605  702600\n35606  702618\n35607  702728\n\n[35608 rows x 1 columns]",
      "text/html": "<div>\n<style scoped>\n    .dataframe tbody tr th:only-of-type {\n        vertical-align: middle;\n    }\n\n    .dataframe tbody tr th {\n        vertical-align: top;\n    }\n\n    .dataframe thead th {\n        text-align: right;\n    }\n</style>\n<table border=\"1\" class=\"dataframe\">\n  <thead>\n    <tr style=\"text-align: right;\">\n      <th></th>\n      <th>id</th>\n    </tr>\n  </thead>\n  <tbody>\n    <tr>\n      <th>0</th>\n      <td>231384</td>\n    </tr>\n    <tr>\n      <th>1</th>\n      <td>231388</td>\n    </tr>\n    <tr>\n      <th>2</th>\n      <td>231419</td>\n    </tr>\n    <tr>\n      <th>3</th>\n      <td>231427</td>\n    </tr>\n    <tr>\n      <th>4</th>\n      <td>231456</td>\n    </tr>\n    <tr>\n      <th>...</th>\n      <td>...</td>\n    </tr>\n    <tr>\n      <th>35603</th>\n      <td>702397</td>\n    </tr>\n    <tr>\n      <th>35604</th>\n      <td>702523</td>\n    </tr>\n    <tr>\n      <th>35605</th>\n      <td>702600</td>\n    </tr>\n    <tr>\n      <th>35606</th>\n      <td>702618</td>\n    </tr>\n    <tr>\n      <th>35607</th>\n      <td>702728</td>\n    </tr>\n  </tbody>\n</table>\n<p>35608 rows × 1 columns</p>\n</div>"
     },
     "execution_count": 1,
     "metadata": {},
     "output_type": "execute_result"
    }
   ],
   "source": [
    "import pandas as pd\n",
    "\n",
    "# 经过pf条件后的Id\n",
    "valid_id_df_after_pf_filter = pd.read_csv('./file/merge_valid_id_after_pf_filter.csv')\n",
    "valid_id_df_after_pf_filter"
   ],
   "metadata": {
    "collapsed": false,
    "pycharm": {
     "name": "#%%\n"
    }
   }
  },
  {
   "cell_type": "code",
   "execution_count": 2,
   "outputs": [
    {
     "data": {
      "text/plain": "            id\n0      3181349\n1      3145904\n2      1652554\n3      1321565\n4      1646459\n...        ...\n24811  3047508\n24812  1773256\n24813   945940\n24814  3200031\n24815   560047\n\n[24816 rows x 1 columns]",
      "text/html": "<div>\n<style scoped>\n    .dataframe tbody tr th:only-of-type {\n        vertical-align: middle;\n    }\n\n    .dataframe tbody tr th {\n        vertical-align: top;\n    }\n\n    .dataframe thead th {\n        text-align: right;\n    }\n</style>\n<table border=\"1\" class=\"dataframe\">\n  <thead>\n    <tr style=\"text-align: right;\">\n      <th></th>\n      <th>id</th>\n    </tr>\n  </thead>\n  <tbody>\n    <tr>\n      <th>0</th>\n      <td>3181349</td>\n    </tr>\n    <tr>\n      <th>1</th>\n      <td>3145904</td>\n    </tr>\n    <tr>\n      <th>2</th>\n      <td>1652554</td>\n    </tr>\n    <tr>\n      <th>3</th>\n      <td>1321565</td>\n    </tr>\n    <tr>\n      <th>4</th>\n      <td>1646459</td>\n    </tr>\n    <tr>\n      <th>...</th>\n      <td>...</td>\n    </tr>\n    <tr>\n      <th>24811</th>\n      <td>3047508</td>\n    </tr>\n    <tr>\n      <th>24812</th>\n      <td>1773256</td>\n    </tr>\n    <tr>\n      <th>24813</th>\n      <td>945940</td>\n    </tr>\n    <tr>\n      <th>24814</th>\n      <td>3200031</td>\n    </tr>\n    <tr>\n      <th>24815</th>\n      <td>560047</td>\n    </tr>\n  </tbody>\n</table>\n<p>24816 rows × 1 columns</p>\n</div>"
     },
     "execution_count": 2,
     "metadata": {},
     "output_type": "execute_result"
    }
   ],
   "source": [
    "# 经过除了pf之外，其他条件后的Id\n",
    "valid_id_df_without_pf_filter = pd.read_csv('./file/valid_id_without_pf_filter.csv')\n",
    "valid_id_df_without_pf_filter"
   ],
   "metadata": {
    "collapsed": false,
    "pycharm": {
     "name": "#%%\n"
    }
   }
  },
  {
   "cell_type": "code",
   "execution_count": 12,
   "outputs": [
    {
     "name": "stdout",
     "output_type": "stream",
     "text": [
      "(15408, 1)\n",
      "(15408,)\n"
     ]
    }
   ],
   "source": [
    "# 取交集\n",
    "intersected_df = pd.merge(valid_id_df_after_pf_filter, valid_id_df_without_pf_filter, on=['id'], how='inner')\n",
    "print(intersected_df.shape)\n",
    "intersected_df.to_csv('././file/result/result_id.csv')\n",
    "print(intersected_df['id'].unique().shape)"
   ],
   "metadata": {
    "collapsed": false,
    "pycharm": {
     "name": "#%%\n"
    }
   }
  },
  {
   "cell_type": "code",
   "execution_count": 26,
   "outputs": [
    {
     "name": "stdout",
     "output_type": "stream",
     "text": [
      "15408\n",
      "Series([], Name: id, dtype: int64)\n",
      "1500\n",
      "Series([], Name: id, dtype: int64)\n",
      "1500\n",
      "Series([], Name: id, dtype: int64)\n",
      "1500\n",
      "Series([], Name: id, dtype: int64)\n",
      "1500\n",
      "Series([], Name: id, dtype: int64)\n",
      "1500\n",
      "Series([], Name: id, dtype: int64)\n",
      "1500\n",
      "Series([], Name: id, dtype: int64)\n",
      "1500\n",
      "Series([], Name: id, dtype: int64)\n",
      "1500\n",
      "Series([], Name: id, dtype: int64)\n",
      "1500\n",
      "Series([], Name: id, dtype: int64)\n",
      "1500\n",
      "Series([], Name: id, dtype: int64)\n",
      "407\n"
     ]
    }
   ],
   "source": [
    "valid_id = pd.read_csv('././file/result/result_id.csv')\n",
    "print(len(valid_id))\n",
    "\n",
    "valid_id_group = []\n",
    "for i in range(10):\n",
    "    valid_id_group.append(intersected_df['id'][i * 1500:i * 1500 + 1500])\n",
    "valid_id_group.append(intersected_df['id'][15000:15407])\n",
    "\n",
    "\n",
    "for a in valid_id_group:\n",
    "    print(a.head(0))\n",
    "    print(len(a))"
   ],
   "metadata": {
    "collapsed": false,
    "pycharm": {
     "name": "#%%\n"
    }
   }
  },
  {
   "cell_type": "code",
   "execution_count": null,
   "outputs": [],
   "source": [],
   "metadata": {
    "collapsed": false,
    "pycharm": {
     "name": "#%%\n"
    }
   }
  },
  {
   "cell_type": "code",
   "execution_count": null,
   "outputs": [],
   "source": [],
   "metadata": {
    "collapsed": false,
    "pycharm": {
     "name": "#%%\n"
    }
   }
  },
  {
   "cell_type": "markdown",
   "source": [
    "# 约220维的数据"
   ],
   "metadata": {
    "collapsed": false,
    "pycharm": {
     "name": "#%% md\n"
    }
   }
  },
  {
   "cell_type": "code",
   "execution_count": 112,
   "outputs": [
    {
     "data": {
      "text/plain": "174"
     },
     "execution_count": 112,
     "metadata": {},
     "output_type": "execute_result"
    }
   ],
   "source": [
    "name_list = ['albumin', 'alp', 'alt (sgpt)', 'ast (sgot)', 'bands', 'base excess', 'basos', 'bicarbonate',\n",
    "             'total bilirubin', 'bun', 'calcium', 'co2', 'creatinine', 'cvp', '-eos', 'etco2', 'fio2',\n",
    "             'gcs(eyes)', 'gcs(intub)', 'gcs total', 'gcs(motor)', 'gcs(unable)', 'gcs(verbal)', 'glucose',\n",
    "             'heart rate', 'hematocrit', 'hemoglobin', 'pt - inr', 'invasive bp diastolic', 'invasive bp mean',\n",
    "             'invasive bp systolic', 'ionized calcium(cialcium)', 'lactate', 'magnesium', 'mean airway pressure',\n",
    "             'non-invasive bp diastolic', 'non-invasive bp mean', 'non-invasive bp systolic', 'paco2', 'pao2',\n",
    "             'pap_systolic', 'pap_mean', 'pap_diastolic', 'p / f ratio', 'pip', 'peep', 'ph', 'platelets x 1000',\n",
    "             'plateau pressure', 'potassium', 'ptt', 'sao2', 'sodium', 'spo2', 'respiratory rate', 'temperature',\n",
    "             'tidal volume / ibw', 'wbc x 1000']\n",
    "dynamic_list_median = []\n",
    "dynamic_list_variance = []\n",
    "dynamic_list_change_rate = []\n",
    "\n",
    "for name in name_list:\n",
    "    dynamic_list_median.append(name + '_median')\n",
    "\n",
    "for name in name_list:\n",
    "    dynamic_list_variance.append(name + '_variance')\n",
    "\n",
    "for name in name_list:\n",
    "    dynamic_list_change_rate.append(name + '_change_rate')\n",
    "\n",
    "dynamic_all = []\n",
    "dynamic_all = dynamic_list_median + dynamic_list_variance + dynamic_list_change_rate\n",
    "len(dynamic_all)"
   ],
   "metadata": {
    "collapsed": false,
    "pycharm": {
     "name": "#%%\n"
    }
   }
  },
  {
   "cell_type": "code",
   "execution_count": 114,
   "outputs": [
    {
     "data": {
      "text/plain": "['warfarin',\n 'dobutamine',\n 'Dopamine',\n 'epinephrine',\n 'Heparin',\n 'Milrinone',\n 'Norepinephrine',\n 'phenylephrine',\n 'vasopressin',\n 'Vasopressor',\n 'Acute_Coronary_Syndrome_diagnosis',\n 'Acute_Myocardial_Infarction',\n 'Acute_Renal_Failure',\n 'Arrhythmia',\n 'Asthma_Emphysema',\n 'Cancer',\n 'Cardiac_Arrest',\n 'Cardiogenic_Shock',\n 'Cardiovascular_Medical',\n 'Cardiovascular_Other',\n 'Cerebrovascular_Accident_Stroke',\n 'Chest_Pain_Unknown_Origin',\n 'Coma',\n 'Coronary_Artery_Bypass_Graft',\n 'Diabetic_Ketoacidosis',\n 'Gastrointestinal_Bleed',\n 'Gastrointestinal_Obstruction',\n 'Neurologic',\n 'Overdose',\n 'Pneumonia',\n 'Respiratory_Medical_Other',\n 'Sepsis',\n 'Thoracotomy',\n 'Trauma',\n 'Valve_Disease',\n 'admitsource',\n 'age',\n 'gender',\n 'BMI',\n 'status',\n 'admission_score',\n 'albumin_median',\n 'alp_median',\n 'alt (sgpt)_median',\n 'ast (sgot)_median',\n 'bands_median',\n 'base excess_median',\n 'basos_median',\n 'bicarbonate_median',\n 'total bilirubin_median',\n 'bun_median',\n 'calcium_median',\n 'co2_median',\n 'creatinine_median',\n 'cvp_median',\n '-eos_median',\n 'etco2_median',\n 'fio2_median',\n 'gcs(eyes)_median',\n 'gcs(intub)_median',\n 'gcs total_median',\n 'gcs(motor)_median',\n 'gcs(unable)_median',\n 'gcs(verbal)_median',\n 'glucose_median',\n 'heart rate_median',\n 'hematocrit_median',\n 'hemoglobin_median',\n 'pt - inr_median',\n 'invasive bp diastolic_median',\n 'invasive bp mean_median',\n 'invasive bp systolic_median',\n 'ionized calcium(cialcium)_median',\n 'lactate_median',\n 'magnesium_median',\n 'mean airway pressure_median',\n 'non-invasive bp diastolic_median',\n 'non-invasive bp mean_median',\n 'non-invasive bp systolic_median',\n 'paco2_median',\n 'pao2_median',\n 'pap_systolic_median',\n 'pap_mean_median',\n 'pap_diastolic_median',\n 'p / f ratio_median',\n 'pip_median',\n 'peep_median',\n 'ph_median',\n 'platelets x 1000_median',\n 'plateau pressure_median',\n 'potassium_median',\n 'ptt_median',\n 'sao2_median',\n 'sodium_median',\n 'spo2_median',\n 'respiratory rate_median',\n 'temperature_median',\n 'tidal volume / ibw_median',\n 'wbc x 1000_median',\n 'albumin_variance',\n 'alp_variance',\n 'alt (sgpt)_variance',\n 'ast (sgot)_variance',\n 'bands_variance',\n 'base excess_variance',\n 'basos_variance',\n 'bicarbonate_variance',\n 'total bilirubin_variance',\n 'bun_variance',\n 'calcium_variance',\n 'co2_variance',\n 'creatinine_variance',\n 'cvp_variance',\n '-eos_variance',\n 'etco2_variance',\n 'fio2_variance',\n 'gcs(eyes)_variance',\n 'gcs(intub)_variance',\n 'gcs total_variance',\n 'gcs(motor)_variance',\n 'gcs(unable)_variance',\n 'gcs(verbal)_variance',\n 'glucose_variance',\n 'heart rate_variance',\n 'hematocrit_variance',\n 'hemoglobin_variance',\n 'pt - inr_variance',\n 'invasive bp diastolic_variance',\n 'invasive bp mean_variance',\n 'invasive bp systolic_variance',\n 'ionized calcium(cialcium)_variance',\n 'lactate_variance',\n 'magnesium_variance',\n 'mean airway pressure_variance',\n 'non-invasive bp diastolic_variance',\n 'non-invasive bp mean_variance',\n 'non-invasive bp systolic_variance',\n 'paco2_variance',\n 'pao2_variance',\n 'pap_systolic_variance',\n 'pap_mean_variance',\n 'pap_diastolic_variance',\n 'p / f ratio_variance',\n 'pip_variance',\n 'peep_variance',\n 'ph_variance',\n 'platelets x 1000_variance',\n 'plateau pressure_variance',\n 'potassium_variance',\n 'ptt_variance',\n 'sao2_variance',\n 'sodium_variance',\n 'spo2_variance',\n 'respiratory rate_variance',\n 'temperature_variance',\n 'tidal volume / ibw_variance',\n 'wbc x 1000_variance',\n 'albumin_change_rate',\n 'alp_change_rate',\n 'alt (sgpt)_change_rate',\n 'ast (sgot)_change_rate',\n 'bands_change_rate',\n 'base excess_change_rate',\n 'basos_change_rate',\n 'bicarbonate_change_rate',\n 'total bilirubin_change_rate',\n 'bun_change_rate',\n 'calcium_change_rate',\n 'co2_change_rate',\n 'creatinine_change_rate',\n 'cvp_change_rate',\n '-eos_change_rate',\n 'etco2_change_rate',\n 'fio2_change_rate',\n 'gcs(eyes)_change_rate',\n 'gcs(intub)_change_rate',\n 'gcs total_change_rate',\n 'gcs(motor)_change_rate',\n 'gcs(unable)_change_rate',\n 'gcs(verbal)_change_rate',\n 'glucose_change_rate',\n 'heart rate_change_rate',\n 'hematocrit_change_rate',\n 'hemoglobin_change_rate',\n 'pt - inr_change_rate',\n 'invasive bp diastolic_change_rate',\n 'invasive bp mean_change_rate',\n 'invasive bp systolic_change_rate',\n 'ionized calcium(cialcium)_change_rate',\n 'lactate_change_rate',\n 'magnesium_change_rate',\n 'mean airway pressure_change_rate',\n 'non-invasive bp diastolic_change_rate',\n 'non-invasive bp mean_change_rate',\n 'non-invasive bp systolic_change_rate',\n 'paco2_change_rate',\n 'pao2_change_rate',\n 'pap_systolic_change_rate',\n 'pap_mean_change_rate',\n 'pap_diastolic_change_rate',\n 'p / f ratio_change_rate',\n 'pip_change_rate',\n 'peep_change_rate',\n 'ph_change_rate',\n 'platelets x 1000_change_rate',\n 'plateau pressure_change_rate',\n 'potassium_change_rate',\n 'ptt_change_rate',\n 'sao2_change_rate',\n 'sodium_change_rate',\n 'spo2_change_rate',\n 'respiratory rate_change_rate',\n 'temperature_change_rate',\n 'tidal volume / ibw_change_rate',\n 'wbc x 1000_change_rate']"
     },
     "execution_count": 114,
     "metadata": {},
     "output_type": "execute_result"
    }
   ],
   "source": [
    "static = ['warfarin', 'dobutamine', 'Dopamine', 'epinephrine', 'Heparin', 'Milrinone', 'Norepinephrine',\n",
    "         'phenylephrine',\n",
    "         'vasopressin', 'Vasopressor', 'Acute_Coronary_Syndrome_diagnosis', 'Acute_Myocardial_Infarction',\n",
    "         'Acute_Renal_Failure', 'Arrhythmia', 'Asthma_Emphysema', 'Cancer', 'Cardiac_Arrest', 'Cardiogenic_Shock',\n",
    "         'Cardiovascular_Medical', 'Cardiovascular_Other', 'Cerebrovascular_Accident_Stroke',\n",
    "         'Chest_Pain_Unknown_Origin',\n",
    "         'Coma', 'Coronary_Artery_Bypass_Graft', 'Diabetic_Ketoacidosis', 'Gastrointestinal_Bleed',\n",
    "         'Gastrointestinal_Obstruction',\n",
    "         'Neurologic', 'Overdose', 'Pneumonia', 'Respiratory_Medical_Other', 'Sepsis', 'Thoracotomy', 'Trauma',\n",
    "         'Valve_Disease', 'admitsource', 'age', 'gender', 'BMI', 'status', 'admission_score']\n",
    "\n",
    "all_feature = static + dynamic_all\n",
    "all_feature"
   ],
   "metadata": {
    "collapsed": false,
    "pycharm": {
     "name": "#%%\n"
    }
   }
  }
 ],
 "metadata": {
  "kernelspec": {
   "display_name": "Python 3",
   "language": "python",
   "name": "python3"
  },
  "language_info": {
   "codemirror_mode": {
    "name": "ipython",
    "version": 2
   },
   "file_extension": ".py",
   "mimetype": "text/x-python",
   "name": "python",
   "nbconvert_exporter": "python",
   "pygments_lexer": "ipython2",
   "version": "2.7.6"
  }
 },
 "nbformat": 4,
 "nbformat_minor": 0
}