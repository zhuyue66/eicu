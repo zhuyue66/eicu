{
 "cells": [
  {
   "cell_type": "code",
   "execution_count": 37,
   "metadata": {
    "collapsed": true,
    "pycharm": {
     "name": "#%%\n"
    }
   },
   "outputs": [
    {
     "name": "stdout",
     "output_type": "stream",
     "text": [
      "0\n",
      "4\n"
     ]
    }
   ],
   "source": [
    "import pandas as pd\n",
    "\n",
    "from postgresql import PostgreSQL\n",
    "\n",
    "result = PostgreSQL().get_list_by_id(141650)\n",
    "result_df = pd.DataFrame(result)\n",
    "# print(result_df)\n",
    "print(len(result_df.loc[result_df[2] == 'FiO2']))\n",
    "print(len(result_df.loc[result_df[2] == 'paO2']))"
   ]
  },
  {
   "cell_type": "code",
   "execution_count": 38,
   "outputs": [
    {
     "data": {
      "text/plain": "       id  time labname  value\n0  141168  1805    FiO2     28\n1  141168  1805    paO2     41\n2  141168  2010    FiO2    100\n3  141168  2010    paO2     42\n4  141168  2026    paO2     68\n5  141168  2026    FiO2     35\n6  141168  2141    FiO2     30\n7  141168  2141    paO2    121",
      "text/html": "<div>\n<style scoped>\n    .dataframe tbody tr th:only-of-type {\n        vertical-align: middle;\n    }\n\n    .dataframe tbody tr th {\n        vertical-align: top;\n    }\n\n    .dataframe thead th {\n        text-align: right;\n    }\n</style>\n<table border=\"1\" class=\"dataframe\">\n  <thead>\n    <tr style=\"text-align: right;\">\n      <th></th>\n      <th>id</th>\n      <th>time</th>\n      <th>labname</th>\n      <th>value</th>\n    </tr>\n  </thead>\n  <tbody>\n    <tr>\n      <th>0</th>\n      <td>141168</td>\n      <td>1805</td>\n      <td>FiO2</td>\n      <td>28</td>\n    </tr>\n    <tr>\n      <th>1</th>\n      <td>141168</td>\n      <td>1805</td>\n      <td>paO2</td>\n      <td>41</td>\n    </tr>\n    <tr>\n      <th>2</th>\n      <td>141168</td>\n      <td>2010</td>\n      <td>FiO2</td>\n      <td>100</td>\n    </tr>\n    <tr>\n      <th>3</th>\n      <td>141168</td>\n      <td>2010</td>\n      <td>paO2</td>\n      <td>42</td>\n    </tr>\n    <tr>\n      <th>4</th>\n      <td>141168</td>\n      <td>2026</td>\n      <td>paO2</td>\n      <td>68</td>\n    </tr>\n    <tr>\n      <th>5</th>\n      <td>141168</td>\n      <td>2026</td>\n      <td>FiO2</td>\n      <td>35</td>\n    </tr>\n    <tr>\n      <th>6</th>\n      <td>141168</td>\n      <td>2141</td>\n      <td>FiO2</td>\n      <td>30</td>\n    </tr>\n    <tr>\n      <th>7</th>\n      <td>141168</td>\n      <td>2141</td>\n      <td>paO2</td>\n      <td>121</td>\n    </tr>\n  </tbody>\n</table>\n</div>"
     },
     "execution_count": 38,
     "metadata": {},
     "output_type": "execute_result"
    }
   ],
   "source": [
    "data_list = pd.read_csv('./file/test.csv')\n",
    "id_list_df = pd.DataFrame(data_list)\n",
    "id_list_df"
   ],
   "metadata": {
    "collapsed": false,
    "pycharm": {
     "name": "#%%\n"
    }
   }
  },
  {
   "cell_type": "code",
   "execution_count": 39,
   "outputs": [
    {
     "data": {
      "text/plain": "array([1805, 2010, 2026, 2141])"
     },
     "execution_count": 39,
     "metadata": {},
     "output_type": "execute_result"
    }
   ],
   "source": [
    "time_list = data_list['time'].unique()\n",
    "time_list"
   ],
   "metadata": {
    "collapsed": false,
    "pycharm": {
     "name": "#%%\n"
    }
   }
  },
  {
   "cell_type": "code",
   "execution_count": 42,
   "outputs": [
    {
     "name": "stdout",
     "output_type": "stream",
     "text": [
      "28--41\n",
      "100--42\n",
      "35--68\n",
      "30--121\n"
     ]
    }
   ],
   "source": [
    "for current_time in time_list:\n",
    "    f_in_time = data_list[(data_list['time'] == current_time) & (data_list['labname'] == 'FiO2')]\n",
    "    p_in_time = data_list[(data_list['time'] == current_time) & (data_list['labname'] == 'paO2')]\n",
    "    print(str(f_in_time.loc[f_in_time.index[0], 'value']) + '--' + str(p_in_time.loc[p_in_time.index[0], 'value']))\n",
    "\n"
   ],
   "metadata": {
    "collapsed": false,
    "pycharm": {
     "name": "#%%\n"
    }
   }
  },
  {
   "cell_type": "code",
   "execution_count": 83,
   "outputs": [],
   "source": [
    "a = 10\n",
    "a_df = pd.DataFrame({a},columns=['id'])\n",
    "a_df.to_csv('././file/111.csv',header=True)\n"
   ],
   "metadata": {
    "collapsed": false,
    "pycharm": {
     "name": "#%%\n"
    }
   }
  },
  {
   "cell_type": "markdown",
   "source": [
    "# id合并"
   ],
   "metadata": {
    "collapsed": false,
    "pycharm": {
     "name": "#%% md\n"
    }
   }
  },
  {
   "cell_type": "code",
   "execution_count": 89,
   "outputs": [
    {
     "data": {
      "text/plain": "           id\n0      231384\n1      231388\n2      231419\n3      231427\n4      231456\n...       ...\n35603  702397\n35604  702523\n35605  702600\n35606  702618\n35607  702728\n\n[35608 rows x 1 columns]",
      "text/html": "<div>\n<style scoped>\n    .dataframe tbody tr th:only-of-type {\n        vertical-align: middle;\n    }\n\n    .dataframe tbody tr th {\n        vertical-align: top;\n    }\n\n    .dataframe thead th {\n        text-align: right;\n    }\n</style>\n<table border=\"1\" class=\"dataframe\">\n  <thead>\n    <tr style=\"text-align: right;\">\n      <th></th>\n      <th>id</th>\n    </tr>\n  </thead>\n  <tbody>\n    <tr>\n      <th>0</th>\n      <td>231384</td>\n    </tr>\n    <tr>\n      <th>1</th>\n      <td>231388</td>\n    </tr>\n    <tr>\n      <th>2</th>\n      <td>231419</td>\n    </tr>\n    <tr>\n      <th>3</th>\n      <td>231427</td>\n    </tr>\n    <tr>\n      <th>4</th>\n      <td>231456</td>\n    </tr>\n    <tr>\n      <th>...</th>\n      <td>...</td>\n    </tr>\n    <tr>\n      <th>35603</th>\n      <td>702397</td>\n    </tr>\n    <tr>\n      <th>35604</th>\n      <td>702523</td>\n    </tr>\n    <tr>\n      <th>35605</th>\n      <td>702600</td>\n    </tr>\n    <tr>\n      <th>35606</th>\n      <td>702618</td>\n    </tr>\n    <tr>\n      <th>35607</th>\n      <td>702728</td>\n    </tr>\n  </tbody>\n</table>\n<p>35608 rows × 1 columns</p>\n</div>"
     },
     "execution_count": 89,
     "metadata": {},
     "output_type": "execute_result"
    }
   ],
   "source": [
    "# 经过pf条件后的Id\n",
    "valid_id_df_after_pf_filter = pd.read_csv('./file/merge_valid_id_after_pf_filter.csv')\n",
    "valid_id_df_after_pf_filter"
   ],
   "metadata": {
    "collapsed": false,
    "pycharm": {
     "name": "#%%\n"
    }
   }
  },
  {
   "cell_type": "code",
   "execution_count": 90,
   "outputs": [
    {
     "data": {
      "text/plain": "            id\n0      3181349\n1      3145904\n2      1652554\n3      1321565\n4      1646459\n...        ...\n24811  3047508\n24812  1773256\n24813   945940\n24814  3200031\n24815   560047\n\n[24816 rows x 1 columns]",
      "text/html": "<div>\n<style scoped>\n    .dataframe tbody tr th:only-of-type {\n        vertical-align: middle;\n    }\n\n    .dataframe tbody tr th {\n        vertical-align: top;\n    }\n\n    .dataframe thead th {\n        text-align: right;\n    }\n</style>\n<table border=\"1\" class=\"dataframe\">\n  <thead>\n    <tr style=\"text-align: right;\">\n      <th></th>\n      <th>id</th>\n    </tr>\n  </thead>\n  <tbody>\n    <tr>\n      <th>0</th>\n      <td>3181349</td>\n    </tr>\n    <tr>\n      <th>1</th>\n      <td>3145904</td>\n    </tr>\n    <tr>\n      <th>2</th>\n      <td>1652554</td>\n    </tr>\n    <tr>\n      <th>3</th>\n      <td>1321565</td>\n    </tr>\n    <tr>\n      <th>4</th>\n      <td>1646459</td>\n    </tr>\n    <tr>\n      <th>...</th>\n      <td>...</td>\n    </tr>\n    <tr>\n      <th>24811</th>\n      <td>3047508</td>\n    </tr>\n    <tr>\n      <th>24812</th>\n      <td>1773256</td>\n    </tr>\n    <tr>\n      <th>24813</th>\n      <td>945940</td>\n    </tr>\n    <tr>\n      <th>24814</th>\n      <td>3200031</td>\n    </tr>\n    <tr>\n      <th>24815</th>\n      <td>560047</td>\n    </tr>\n  </tbody>\n</table>\n<p>24816 rows × 1 columns</p>\n</div>"
     },
     "execution_count": 90,
     "metadata": {},
     "output_type": "execute_result"
    }
   ],
   "source": [
    "# 经过除了pf之外，其他条件后的Id\n",
    "valid_id_df_without_pf_filter = pd.read_csv('./file/valid_id_without_pf_filter.csv')\n",
    "valid_id_df_without_pf_filter"
   ],
   "metadata": {
    "collapsed": false,
    "pycharm": {
     "name": "#%%\n"
    }
   }
  },
  {
   "cell_type": "code",
   "execution_count": 94,
   "outputs": [
    {
     "name": "stdout",
     "output_type": "stream",
     "text": [
      "(15408, 1)\n",
      "(15408,)\n"
     ]
    }
   ],
   "source": [
    "# 取交集\n",
    "intersected_df = pd.merge(valid_id_df_after_pf_filter, valid_id_df_without_pf_filter, on=['id'], how='inner')\n",
    "print(intersected_df.shape)\n",
    "intersected_df.to_csv('././file/result/result_id.csv')\n",
    "print(intersected_df['id'].unique().shape)"
   ],
   "metadata": {
    "collapsed": false,
    "pycharm": {
     "name": "#%%\n"
    }
   }
  },
  {
   "cell_type": "code",
   "execution_count": null,
   "outputs": [],
   "source": [],
   "metadata": {
    "collapsed": false,
    "pycharm": {
     "name": "#%%\n"
    }
   }
  }
 ],
 "metadata": {
  "kernelspec": {
   "display_name": "Python 3",
   "language": "python",
   "name": "python3"
  },
  "language_info": {
   "codemirror_mode": {
    "name": "ipython",
    "version": 2
   },
   "file_extension": ".py",
   "mimetype": "text/x-python",
   "name": "python",
   "nbconvert_exporter": "python",
   "pygments_lexer": "ipython2",
   "version": "2.7.6"
  }
 },
 "nbformat": 4,
 "nbformat_minor": 0
}